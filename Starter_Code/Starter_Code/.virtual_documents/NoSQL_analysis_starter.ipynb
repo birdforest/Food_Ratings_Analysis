





from pymongo import MongoClient
import pandas as pd
from pprint import pprint


# Create an instance of MongoClient
mongo = MongoClient(port=27017)


# assign the uk_food database to a variable name
db = mongo['uk_food']


# review the collections in our database
collection_names = db.list_collection_names()

print("Collections in the uk_food database:")
for name in collection_names:
    print(name)


# assign the collection to a variable
establishments = db['establishments']








# Find the establishments with a hygiene score of 20
query = {"scores.Hygiene": 20}

# Use count_documents to display the number of documents in the result
count_20_hygiene = db.establishments.count_documents(query)
print("Number of establishments with a hygiene score equal to 20:", count_20_hygiene)

# Display the first document in the results using pprint
first_document = db.establishments.find_one(query)
print("First document with a hygiene score of 20:")
pprint(first_document)


# Convert the result to a Pandas DataFrame
result = db.establishments.find(query)
df_hygiene_20 = pd.DataFrame(list(result))
# Display the number of rows in the DataFrame
print("Number of rows in the DataFrame:", len(df_hygiene_20))
# Display the first 10 rows of the DataFrame
print(df_hygiene_20.head(10))





# Find the establishments with London as the Local Authority and has a RatingValue greater than or equal to 4.
query = {"LocalAuthorityName": {"$regex": "London", "$options": "i"}, "RatingValue": {"$gte": 4}}

# Use count_documents to display the number of documents in the result
count_london_rating_4 = db.establishments.count_documents(query)
print("Number of establishments in London with a RatingValue greater than or equal to 4:", count_london_rating_4)

# Display the first document in the results using pprint
first_document_london_rating_4 = db.establishments.find_one(query)
print("First document in London with a RatingValue greater than or equal to 4:")
pprint(first_document_london_rating_4)


# Convert the result to a Pandas DataFrame
result = db.establishments.find(query)
df_london_rating_4 = pd.DataFrame(list(result))
# Display the number of rows in the DataFrame
print("Number of establishments in London with a RatingValue greater than or equal to 4:", len(df_london_rating_4))
# Display the first 10 rows of the DataFrame
print(df_london_rating_4.head(10))





import pymongo
# Search within 0.01 degree on either side of the latitude and longitude.
# Rating value must equal 5
# Sort by hygiene score

degree_search = 0.01
latitude = 51.49014200
longitude = 0.08384000

query = {
    "geocode.latitude": {"$gte": latitude - degree_search, "$lte": latitude + degree_search},
    "geocode.longitude": {"$gte": longitude - degree_search, "$lte": longitude + degree_search},
    "RatingValue": 5
}
sort = [("scores.Hygiene", pymongo.ASCENDING)]
limit = 5

# Print the results
result = db.establishments.find(query).sort(sort).limit(limit)
for doc in result:
    pprint(doc)

# print("Top 5 establishments with a RatingValue of 5, sorted by lowest hygiene score and nearest to Penang Flavours:")
# for index, doc in enumerate(result, 1):
#     print(f"{index}. Business Name: {doc['BusinessName']}, Hygiene Score: {doc['scores']['Hygiene']}")


# Convert result to Pandas DataFrame

# Coordinates of "Penang Flavours" restaurant
penang_latitude = 51.49014200
penang_longitude = 0.08384000

# Define the search radius
degree_search = 0.01

# Construct the query
query = {
    "geocode.latitude": {"$gte": penang_latitude - degree_search, "$lte": penang_latitude + degree_search},
    "geocode.longitude": {"$gte": penang_longitude - degree_search, "$lte": penang_longitude + degree_search},
    "RatingValue": 5
}

# Sort by hygiene score in ascending order
sort = [("scores.Hygiene", pymongo.ASCENDING)]

# Limit the results to top 5
limit = 5

# Execute the query
result = db.establishments.find(query).sort(sort).limit(limit)

# Convert the cursor result to a list of dictionaries
result_list = list(result)

# Convert the list of dictionaries to a Pandas DataFrame
df = pd.DataFrame(result_list)

# Print the DataFrame
print(df)





# Create a pipeline that:
# 1. Matches establishments with a hygiene score of 0
# 2. Groups the matches by Local Authority
# 3. Sorts the matches from highest to lowest
pipeline = [
    {"$match": {"scores.Hygiene": 0}},
    {"$group": {"_id": "$LocalAuthorityName", "count": {"$sum": 1}}},
    {"$sort": {"count": pymongo.DESCENDING}}
]
result = list(db.establishments.aggregate(pipeline))
# Print the number of documents in the result
print("Number of establishments in each Local Authority area with a hygiene score of 0:")
for doc in result:
    print(f"Local Authority: {doc['_id']}, Count: {doc['count']}")
# Print the first 10 results
print("\nFirst 10 results:")
for index, doc in enumerate(result[:10], 1):
    print(f"{index}.")
    pprint(doc)


# Convert the result to a Pandas DataFrame
df = pd.DataFrame(result)
# Display the number of rows in the DataFrame
num_rows = len(df)
print("Number of rows in the DataFrame:", num_rows)
# Display the first 10 rows of the DataFrame
print("\nFirst 10 rows of the DataFrame:")
print(df.head(10))




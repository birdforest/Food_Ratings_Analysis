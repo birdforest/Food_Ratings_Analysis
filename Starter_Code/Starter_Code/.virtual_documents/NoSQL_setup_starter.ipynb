








# Import dependencies
from pymongo import MongoClient
from pprint import pprint


# Create an instance of MongoClient
mongo = MongoClient(port=27017)


# confirm that our new database was created

# List the databases
database_names = mongo.list_database_names()

# Check if the new database exists in the list
if "uk_food" in database_names:
    print("The 'uk_food' database was successfully created.")
else:
    print("The 'uk_food' database was not found.")


# assign the uk_food database to a variable name
db = mongo['uk_food']


# review the collections in our new database

# List the collections in the uk_food database
collection_names = db.list_collection_names()

print("Collections in the 'uk_food' database:")
for collection_name in collection_names:
    print(collection_name)


# review the collections in our new database (is this a duplicate?)

# List the collections in the uk_food database
collection_names = db.list_collection_names()

# Print the collection names
for collection_name in collection_names:
    print(collection_name)


# review a document in the establishments collection

# Find and display one document in the establishments collection
document = db.establishments.find_one()
pprint(document)


# assign the collection to a variable
establishments = db['establishments']








# Create a dictionary for the new restaurant data
new_restaurant = {
    "BusinessName": "Penang Flavours",
    "BusinessType": "Restaurant/Cafe/Canteen",
    "BusinessTypeID": "",
    "AddressLine1": "Penang Flavours",
    "AddressLine2": "146A Plumstead Rd",
    "AddressLine3": "London",
    "AddressLine4": "",
    "PostCode": "SE18 7DY",
    "Phone": "",
    "LocalAuthorityCode": "511",
    "LocalAuthorityName": "Greenwich",
    "LocalAuthorityWebSite": "http://www.royalgreenwich.gov.uk",
    "LocalAuthorityEmailAddress": "health@royalgreenwich.gov.uk",
    "scores": {
        "Hygiene": "",
        "Structural": "",
        "ConfidenceInManagement": ""
    },
    "SchemeType": "FHRS",
    "geocode": {
        "longitude": "0.08384000",
        "latitude": "51.49014200"
    },
    "RightToReply": "",
    "Distance": 4623.9723280747176,
    "NewRatingPending": True
}


# Insert the new restaurant into the collection

result = establishments.insert_one(new_restaurant)
print("Inserted document ID:", result.inserted_id)


# Check that the new restaurant was inserted
new_restaurant_query = {"BusinessName": "Penang Flavours"}
new_restaurant_document = establishments.find_one(new_restaurant_query)

if new_restaurant_document:
    print("The new restaurant was successfully inserted:")
    pprint(new_restaurant_document)
else:
    print("The new restaurant was not found")





# Find the BusinessTypeID for "Restaurant/Cafe/Canteen" and return only the BusinessTypeID and BusinessType fields

# Define the query to find the BusinessTypeID for "Restaurant/Cafe/Canteen"
query = {"BusinessType": "Restaurant/Cafe/Canteen"}

# Define the projection to return only the BusinessTypeID and BusinessType fields
projection = {"BusinessTypeID": 1, "BusinessType": 1, "_id": 0}

# Execute the query
business_type_info = establishments.find_one(query, projection)

# Print the result
pprint(business_type_info)





# Update the new restaurant with the correct BusinessTypeID

# Find the BusinessTypeID for "Restaurant/Cafe/Canteen"
business_type_info = establishments.find_one(query, projection)

# Extract the BusinessTypeID from the result
business_type_id = business_type_info["BusinessTypeID"]

# Update the new restaurant with the correct BusinessTypeID
update_query = {"BusinessName": "Penang Flavours"}
update_data = {"$set": {"BusinessTypeID": business_type_id}}

# Perform the update
update_result = establishments.update_one(update_query, update_data)

# Print the result
print("Modified:", update_result.modified_count)


# Confirm that the new restaurant was updated

updated_restaurant = establishments.find_one({"BusinessName": "Penang Flavours"})

print("Updated restaurant:")
pprint(updated_restaurant)





# Find how many documents have LocalAuthorityName as "Dover"
dover_count = establishments.count_documents({"LocalAuthorityName": "Dover"})
print("Number of documents with LocalAuthorityName as 'Dover':", dover_count)


# Delete all documents where LocalAuthorityName is "Dover"

# Delete all documents where LocalAuthorityName is "Dover"
delete_result = establishments.delete_many({"LocalAuthorityName": "Dover"})
print("Number of documents deleted:", delete_result.deleted_count)


# Check if any remaining documents include Dover

# Count the number of documents with LocalAuthorityName as "Dover" after deletion
remaining_dover_count = establishments.count_documents({"LocalAuthorityName": "Dover"})

if remaining_dover_count == 0:
    print("No documents with LocalAuthorityName as 'Dover' remain")
else:
    print("There are still", remaining_dover_count, "documents with LocalAuthorityName as 'Dover'.")


# Check that other documents remain with 'find_one'

# Find and display one document in the collection
remaining_document = establishments.find_one()

# Display the remaining document
print("One remaining document in the collection:")
pprint(remaining_document)








# Change the data type from String to Decimal for longitude and latitude
update_result = establishments.update_many(
    {},
    [
        {"$set": {"geocode.longitude": {"$toDouble": "$geocode.longitude"}}},
        {"$set": {"geocode.latitude": {"$toDouble": "$geocode.latitude"}}}
    ]
)
print("Number of documents updated:", update_result.modified_count)





# Set non 1-5 Rating Values to Null
non_ratings = ["AwaitingInspection", "Awaiting Inspection", "AwaitingPublication", "Pass", "Exempt"]
establishments.update_many({"RatingValue": {"$in": non_ratings}}, [ {'$set':{ "RatingValue" : None}} ])


# Change the data type from String to Integer for RatingValue
# Update the data type from String to Integer for RatingValue
update_result = establishments.update_many(
    {},
    [
        {"$set": {"RatingValue": {"$toInt": "$RatingValue"}}}
    ]
)
print("Number of documents updated:", update_result.modified_count)



# Check that the coordinates and rating value are now numbers
updated_document = establishments.find_one()

print("One document from the collection after updates:")
pprint(updated_document)



